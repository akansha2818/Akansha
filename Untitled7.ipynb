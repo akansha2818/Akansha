{
  "nbformat": 4,
  "nbformat_minor": 0,
  "metadata": {
    "colab": {
      "provenance": [],
      "authorship_tag": "ABX9TyPN0Ah9MC0ki4btmzAQeGUk",
      "include_colab_link": true
    },
    "kernelspec": {
      "name": "python3",
      "display_name": "Python 3"
    },
    "language_info": {
      "name": "python"
    }
  },
  "cells": [
    {
      "cell_type": "markdown",
      "metadata": {
        "id": "view-in-github",
        "colab_type": "text"
      },
      "source": [
        "<a href=\"https://colab.research.google.com/github/akansha2818/Akansha/blob/main/Untitled7.ipynb\" target=\"_parent\"><img src=\"https://colab.research.google.com/assets/colab-badge.svg\" alt=\"Open In Colab\"/></a>"
      ]
    },
    {
      "cell_type": "markdown",
      "source": [
        "This is the first lecture on Python programming .\n"
      ],
      "metadata": {
        "id": "tEVXrwOMrzME"
      }
    },
    {
      "cell_type": "code",
      "source": [
        "# Creating an empty list named l1\n",
        "l1 = list()\n",
        "# You can add elements to this list using append(), extend(), or other list methods."
      ],
      "metadata": {
        "id": "AQA7DG8UsdU5"
      },
      "execution_count": 1,
      "outputs": []
    },
    {
      "cell_type": "markdown",
      "source": [
        "Now, i will explain Append function:"
      ],
      "metadata": {
        "id": "Nf1Cr3a9tnHG"
      }
    },
    {
      "cell_type": "code",
      "source": [
        "# l1 = []\n",
        "\n",
        "# Append a new list [7, 5] to the list l1\n",
        "l1.append([7, 5])\n",
        "\n",
        "# Print the updated list l1\n",
        "print(l1)\n"
      ],
      "metadata": {
        "colab": {
          "base_uri": "https://localhost:8080/"
        },
        "id": "JFdWwb-PuSeU",
        "outputId": "63cc45f3-f02a-4220-e05e-ef4977dbb637"
      },
      "execution_count": 2,
      "outputs": [
        {
          "output_type": "stream",
          "name": "stdout",
          "text": [
            "[[7, 5]]\n"
          ]
        }
      ]
    },
    {
      "cell_type": "markdown",
      "source": [
        "Explanation:\n",
        "l1.append([7, 5]): The append method is used to add the list [7, 5] as a single element to the end of the list l1."
      ],
      "metadata": {
        "id": "pZpMyFI-veWN"
      }
    },
    {
      "cell_type": "markdown",
      "source": [
        "Clear Function:"
      ],
      "metadata": {
        "id": "TOmoTsUHwWl4"
      }
    },
    {
      "cell_type": "code",
      "source": [
        "# Clear all elements from the list l1\n",
        "l1.clear()\n",
        "\n",
        "# Print the updated list l1 after clearing its elements\n",
        "print(l1)"
      ],
      "metadata": {
        "colab": {
          "base_uri": "https://localhost:8080/"
        },
        "id": "ZqvwIJxowkiH",
        "outputId": "83da2fad-680b-4b29-cbac-9953de5deae3"
      },
      "execution_count": 3,
      "outputs": [
        {
          "output_type": "stream",
          "name": "stdout",
          "text": [
            "[]\n"
          ]
        }
      ]
    },
    {
      "cell_type": "markdown",
      "source": [
        "Explanation:\n",
        "l1.clear(): The clear method is used to remove all elements from the list l1."
      ],
      "metadata": {
        "id": "6FDx0zZ4wr5p"
      }
    },
    {
      "cell_type": "code",
      "source": [
        "# To understand better let l1:\n",
        "l1=([1,2,3,4,5])\n",
        "\n",
        "# Assign the value of list l1 to the list l2\n",
        "l2 = l1\n",
        "print(\"l1:\", l1)\n",
        "print(\"l2:\", l2)"
      ],
      "metadata": {
        "colab": {
          "base_uri": "https://localhost:8080/"
        },
        "id": "35_Ax1aRxt22",
        "outputId": "f7ef84b0-c755-4bdf-dba0-3f6a976ce96c"
      },
      "execution_count": 15,
      "outputs": [
        {
          "output_type": "stream",
          "name": "stdout",
          "text": [
            "l1: [1, 2, 3, 4, 5]\n",
            "l2: [1, 2, 3, 4, 5]\n"
          ]
        }
      ]
    },
    {
      "cell_type": "markdown",
      "source": [
        "Copy Function:"
      ],
      "metadata": {
        "id": "usl74E-OxOIV"
      }
    },
    {
      "cell_type": "code",
      "source": [
        "# Create a shallow copy of the list l1 and assign it to the list l2\n",
        "l2 = l1.copy()\n",
        "print(\"l2:\", l2)\n"
      ],
      "metadata": {
        "colab": {
          "base_uri": "https://localhost:8080/"
        },
        "id": "Sbw4qLg4xaFr",
        "outputId": "3b54efd8-5002-4209-ee65-17da46decf9c"
      },
      "execution_count": 9,
      "outputs": [
        {
          "output_type": "stream",
          "name": "stdout",
          "text": [
            "l2: [1, 2, 3, 4, 5]\n"
          ]
        }
      ]
    },
    {
      "cell_type": "markdown",
      "source": [
        "Explanation:\n",
        " A shallow copy means that a new list is created, but the elements inside the new list still  the same objects as the elements in the original list.\n",
        "\n",
        "\n",
        "l2 = l1.copy(): This line assigns the shallow copy of l1 to the variable l2."
      ],
      "metadata": {
        "id": "-2Ndtqg3z3X0"
      }
    },
    {
      "cell_type": "markdown",
      "source": [
        "Extend function:"
      ],
      "metadata": {
        "id": "z-NnN0F10iWe"
      }
    },
    {
      "cell_type": "code",
      "source": [
        "# Extend the list l1 by adding each character of the string 'Manan' as individual elements\n",
        "l1.extend('Akansha')\n",
        "print(l1)"
      ],
      "metadata": {
        "colab": {
          "base_uri": "https://localhost:8080/"
        },
        "id": "3hmju3pU0kne",
        "outputId": "3059ecf7-f8ad-4ae3-d8fc-64d906b5967c"
      },
      "execution_count": 10,
      "outputs": [
        {
          "output_type": "stream",
          "name": "stdout",
          "text": [
            "[1, 2, 3, 4, 5, 'A', 'k', 'a', 'n', 's', 'h', 'a']\n"
          ]
        }
      ]
    },
    {
      "cell_type": "markdown",
      "source": [
        "Explanation:\n",
        "\n",
        "l1.extend('Akansha'):It is used to add each character of the string 'Akansha' as individual elements."
      ],
      "metadata": {
        "id": "Q1aHyfzm05vU"
      }
    },
    {
      "cell_type": "markdown",
      "source": [
        "Count Function:"
      ],
      "metadata": {
        "id": "lAXluadB1iv_"
      }
    },
    {
      "cell_type": "code",
      "source": [
        "count_of_3 = l1.count(3)\n",
        "print(\"Count of 3 in l1:\", count_of_3)"
      ],
      "metadata": {
        "colab": {
          "base_uri": "https://localhost:8080/"
        },
        "id": "kPio0N-gJ7OL",
        "outputId": "1ae257c9-67cc-4c6a-8111-0b6acff9502f"
      },
      "execution_count": 16,
      "outputs": [
        {
          "output_type": "stream",
          "name": "stdout",
          "text": [
            "Count of 3 in l1: 1\n"
          ]
        }
      ]
    },
    {
      "cell_type": "markdown",
      "source": [
        "Explanation:he count method is used to count the number of occurrences of the specified element"
      ],
      "metadata": {
        "id": "MxQxofYxJ-LX"
      }
    },
    {
      "cell_type": "markdown",
      "source": [
        "Random:"
      ],
      "metadata": {
        "id": "DQXKrFXpA7r1"
      }
    },
    {
      "cell_type": "code",
      "source": [
        "import random\n",
        "import matplotlib.pyplot as plt"
      ],
      "metadata": {
        "id": "cxpyQ5ZXA_M_"
      },
      "execution_count": 19,
      "outputs": []
    },
    {
      "cell_type": "markdown",
      "source": [
        "Explanation:\n",
        "\n",
        "1.'random' module: The 'random' module in Python provides functions that generate random numbers. This can be useful in various applications, such as simulations and games.\n",
        "\n",
        "2.'matplotlib.pyplot' library: This is a plotting library in Python that is widely used for creating visualizations such as line plots, scatter plots,etc."
      ],
      "metadata": {
        "id": "9k2eXWBS_8yN"
      }
    },
    {
      "cell_type": "markdown",
      "source": [
        "Mapping Dictionary:"
      ],
      "metadata": {
        "id": "t0TZRpbxB0-z"
      }
    },
    {
      "cell_type": "code",
      "source": [
        "mapping_dict = dict(zip(range(0,10),range(0,10)))\n",
        "mapping_dict\n"
      ],
      "metadata": {
        "colab": {
          "base_uri": "https://localhost:8080/"
        },
        "id": "8bDC5QjCCb5H",
        "outputId": "4a3c8da8-4f2d-40ea-c4c0-01534d3069c2"
      },
      "execution_count": 20,
      "outputs": [
        {
          "output_type": "execute_result",
          "data": {
            "text/plain": [
              "{0: 0, 1: 1, 2: 2, 3: 3, 4: 4, 5: 5, 6: 6, 7: 7, 8: 8, 9: 9}"
            ]
          },
          "metadata": {},
          "execution_count": 20
        }
      ]
    },
    {
      "cell_type": "markdown",
      "source": [
        "Explanation:\n",
        "\n",
        "1.range(0, 10): This creates a sequence of numbers from 0 to 9.\n",
        "\n",
        "2.zip(range(0, 10), range(0, 10)): The zip function takes two or more iterables and pairs their corresponding elements.\n",
        "\n",
        "3.dict(...): The dict constructor is then used to convert the pairs generated by zip into a dictionary. In a dictionary, each pair becomes a key-value pair."
      ],
      "metadata": {
        "id": "zaXqy-anCxMp"
      }
    },
    {
      "cell_type": "code",
      "source": [
        "for k in mapping_dict.keys():\n",
        "\n",
        "  mapping_dict[k] = str(mapping_dict[k])\n",
        "  mapping_dict"
      ],
      "metadata": {
        "id": "1RGsgGd2EQcR"
      },
      "execution_count": 21,
      "outputs": []
    },
    {
      "cell_type": "markdown",
      "source": [
        "Explanation:\n",
        "\n",
        "1.for k in mapping_dict.keys():: This is a loop that iterates over the keys of the dictionary mapping_dict. The variable k takes on the values of the keys during each iteration.\n",
        "\n",
        "2.mapping_dict[k] = str(mapping_dict[k]): Inside the loop, for each key k, it accesses the value associated with that key (mapping_dict[k]), converts it to a string using str(), and then assigns the string value back to the same key in the dictionary.\n",
        "\n",
        "All values in the dictionary have been converted from integers to strings."
      ],
      "metadata": {
        "id": "peANig2hEmvV"
      }
    },
    {
      "cell_type": "code",
      "source": [
        "for i in range(0,26):\n",
        "  mapping_dict[10+i] = chr(65+i)\n",
        "  mapping_dict"
      ],
      "metadata": {
        "id": "5VNoHA3eE60-"
      },
      "execution_count": 22,
      "outputs": []
    },
    {
      "cell_type": "markdown",
      "source": [
        "Explanation:\n",
        "\n",
        "1.for i in range(0, 26):: This is a loop that iterates over the numbers from 0 to 25 (26 is not included) using the variable i.\n",
        "\n",
        "2.mapping_dict[10 + i] = chr(65 + i): It calculates a new key 10 + i and assigns a value to that key. The value is obtained using the chr() function, which converts an ASCII code to its corresponding character."
      ],
      "metadata": {
        "id": "_58ZxztsFRqr"
      }
    },
    {
      "cell_type": "code",
      "source": [
        "sample_size = 5000000\n",
        "\n",
        "random_numbers = list()\n",
        "\n",
        "for i in range(0,sample_size):\n",
        "\n",
        "  blank_str = str()\n",
        "\n",
        "  random_digit = random.randint(0,35)\n",
        "  blank_str = blank_str + mapping_dict[random_digit]\n",
        "\n",
        "  random_digit = random.randint(0,35)\n",
        "  blank_str = blank_str + mapping_dict[random_digit]\n",
        "\n",
        "  for i in range(0,8):\n",
        "    coin_toss = random.randint(0,1)\n",
        "\n",
        "    if coin_toss == 1:\n",
        "\n",
        "      random_digit = random.randint(0,35)\n",
        "      blank_str = blank_str + mapping_dict[random_digit]\n",
        "\n",
        "    else:\n",
        "      break\n",
        "\n",
        "  random_numbers.append(blank_str)"
      ],
      "metadata": {
        "id": "FFFVwc7KFzz3"
      },
      "execution_count": 23,
      "outputs": []
    },
    {
      "cell_type": "markdown",
      "source": [
        "Explanation:\n",
        "\n",
        "1.sample_size = 5000000: This line sets the variable sample_size to 5,000,000, indicating the desired size of the sample.\n",
        "\n",
        "2.random_numbers = list(): This line initializes an empty list.\n",
        "\n",
        "3.for i in range(0, sample_size):: This is the outer loop that iterates sample_size times.\n",
        "\n",
        "4.blank_str = str(): This line initializes an empty string.\n",
        "\n",
        "5.random_digit = random.randint(0, 35): This line generates a random integer between 0 and 35.\n",
        "\n",
        "6.blank_str = blank_str + mapping_dict[random_digit]: This line appends the character corresponding to the randomly generated digit in the mapping_dict dictionary to the blank_str string.\n",
        "\n",
        "7.for i in range(0, 8):: This is an inner loop that iterates 8 times.\n",
        "\n",
        "8.coin_toss = random.randint(0, 1): This line generates a random 0 or 1, simulating a coin toss.\n",
        "\n",
        "\n",
        "9.random_numbers.append(blank_str): After constructing the random string in blank_str, it is appended to the random_numbers list."
      ],
      "metadata": {
        "id": "_Ee8GxiCF2I_"
      }
    },
    {
      "cell_type": "code",
      "source": [
        "reverse_mapping_dict = dict()\n",
        "\n",
        "for k in mapping_dict.keys():\n",
        "  reverse_mapping_dict[mapping_dict[k]] = k"
      ],
      "metadata": {
        "id": "tU8YsqfcHSyx"
      },
      "execution_count": 24,
      "outputs": []
    },
    {
      "cell_type": "markdown",
      "source": [
        "Explanation:\n",
        "\n",
        "1.reverse_mapping_dict = dict(): This line initializes an empty dictionary named reverse_mapping_dict.\n",
        "\n",
        "2.for k in mapping_dict.keys():: This is a loop that iterates over the keys of the mapping_dict dictionary. The variable k takes on the values of the keys during each iteration.\n",
        "\n",
        "3.reverse_mapping_dict[mapping_dict[k]] = k: Inside the loop, in mapping_dict, it accesses the corresponding value (mapping_dict[k]) and uses it as a key in the reverse_mapping_dict dictionary.\n",
        "\n",
        " it is swapping the keys and values from mapping_dict to create a new dictionary."
      ],
      "metadata": {
        "id": "DurxQxJ6HYNo"
      }
    },
    {
      "cell_type": "code",
      "source": [
        "base_frequency = dict()\n",
        "\n",
        "for blank_str in random_numbers:\n",
        "  highest_digit = max(blank_str)\n",
        "  highest_base = reverse_mapping_dict[highest_digit] + 1\n",
        "\n",
        "  if highest_base in base_frequency.keys():\n",
        "    base_frequency[highest_base] += (1/sample_size)\n",
        "  else:\n",
        "    base_frequency[highest_base] = (1/sample_size)"
      ],
      "metadata": {
        "id": "dSpgVdhuIHJw"
      },
      "execution_count": 25,
      "outputs": []
    },
    {
      "cell_type": "markdown",
      "source": [
        "Explain:\n",
        "\n",
        "1.base_frequency = dict(): This line initializes an empty dictionary named base_frequency.\n",
        "\n",
        "2.for blank_str in random_numbers:: This is a loop that iterates over each string (blank_str) in the random_numbers list.\n",
        "\n",
        "3.highest_digit = max(blank_str): It finds the highest character in the current string blank_str using the max() function.\n",
        "\n",
        "4.highest_base = reverse_mapping_dict[highest_digit] + 1: It retrieves the original base (key) from reverse_mapping_dict based on the highest digit, and adds 1 to it.\n",
        "\n",
        "5.if highest_base in base_frequency.keys():: Checks if highest_base is already a key in the base_frequency dictionary.\n",
        "\n",
        "6.base_frequency[highest_base] += (1/sample_size): If highest_base is already in the dictionary, it increments its value by the fraction (1/sample_size).\n",
        "\n",
        "else:: If highest_base is not already in the dictionary, it adds a new key-value pair where the key is highest_base, and the value is (1/sample_size)."
      ],
      "metadata": {
        "id": "HDcXkEK7IPs5"
      }
    },
    {
      "cell_type": "code",
      "source": [
        "plt.bar(x=base_frequency.keys(),height=base_frequency.values())"
      ],
      "metadata": {
        "colab": {
          "base_uri": "https://localhost:8080/",
          "height": 447
        },
        "id": "J1BvgQYFI_gD",
        "outputId": "5aea3dcb-8e32-458a-8f9a-0f803f0708c5"
      },
      "execution_count": 26,
      "outputs": [
        {
          "output_type": "execute_result",
          "data": {
            "text/plain": [
              "<BarContainer object of 36 artists>"
            ]
          },
          "metadata": {},
          "execution_count": 26
        },
        {
          "output_type": "display_data",
          "data": {
            "text/plain": [
              "<Figure size 640x480 with 1 Axes>"
            ],
            "image/png": "[encoded data removed]"
          },
          "metadata": {}
        }
      ]
    },
    {
      "cell_type": "markdown",
      "source": [
        "Explanation:\n",
        "\n",
        "1.import matplotlib.pyplot as plt: This line imports the matplotlib.pyplot module and assigns it the alias plt. This alias is commonly used to make the code shorter when calling functions\n",
        "\n",
        "2.plt.bar(x=base_frequency.keys(), height=base_frequency.values()): This line creates a bar plot using the bar() function.\n",
        "\n",
        "3.Display the plot: The code snippet you provided doesn't include the actual command to display the plot."
      ],
      "metadata": {
        "id": "ctoHLZdyJHE-"
      }
    }
  ]
}